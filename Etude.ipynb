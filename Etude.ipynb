{
 "cells": [
  {
   "cell_type": "code",
   "execution_count": 79,
   "metadata": {},
   "outputs": [],
   "source": [
    "# chargement des modules nécessaires \n",
    "import numpy as np\n",
    "import matplotlib\n",
    "%matplotlib inline\n",
    "import matplotlib.pyplot as plt\n",
    "import pandas as pd\n",
    "import seaborn as sns\n",
    "\n",
    "from sklearn import svm\n",
    "from sklearn.datasets import make_moons, make_blobs\n",
    "from sklearn.ensemble import IsolationForest\n",
    "from sklearn.model_selection import train_test_split, GridSearchCV, StratifiedKFold\n",
    "from sklearn.metrics import make_scorer, classification_report, make_scorer, recall_score, f1_score\n",
    "from sklearn.preprocessing import MinMaxScaler\n"
   ]
  },
  {
   "cell_type": "markdown",
   "metadata": {},
   "source": [
    "# Introduction"
   ]
  },
  {
   "cell_type": "code",
   "execution_count": 80,
   "metadata": {},
   "outputs": [],
   "source": [
    "# Chargement du CSV\n",
    "df = pd.read_csv('creditcard.csv')"
   ]
  },
  {
   "cell_type": "markdown",
   "metadata": {},
   "source": [
    "Les algorithmes que nous allons utiliser adoptent par convenstion le label -1 pour les outliers et 1 pour les inliers"
   ]
  },
  {
   "cell_type": "code",
   "execution_count": 81,
   "metadata": {},
   "outputs": [
    {
     "name": "stderr",
     "output_type": "stream",
     "text": [
      "C:\\Users\\sarah\\AppData\\Local\\Temp\\ipykernel_22192\\1277860689.py:2: FutureWarning: A value is trying to be set on a copy of a DataFrame or Series through chained assignment using an inplace method.\n",
      "The behavior will change in pandas 3.0. This inplace method will never work because the intermediate object on which we are setting values always behaves as a copy.\n",
      "\n",
      "For example, when doing 'df[col].method(value, inplace=True)', try using 'df.method({col: value}, inplace=True)' or df[col] = df[col].method(value) instead, to perform the operation inplace on the original object.\n",
      "\n",
      "\n",
      "  df['Class'].replace({1: -1}, inplace=True)\n",
      "C:\\Users\\sarah\\AppData\\Local\\Temp\\ipykernel_22192\\1277860689.py:3: FutureWarning: A value is trying to be set on a copy of a DataFrame or Series through chained assignment using an inplace method.\n",
      "The behavior will change in pandas 3.0. This inplace method will never work because the intermediate object on which we are setting values always behaves as a copy.\n",
      "\n",
      "For example, when doing 'df[col].method(value, inplace=True)', try using 'df.method({col: value}, inplace=True)' or df[col] = df[col].method(value) instead, to perform the operation inplace on the original object.\n",
      "\n",
      "\n",
      "  df['Class'].replace({0: 1}, inplace=True)\n"
     ]
    }
   ],
   "source": [
    "# Mofification labels 1 de la var Class en -1 et 1\n",
    "df['Class'].replace({1: -1}, inplace=True)\n",
    "df['Class'].replace({0: 1}, inplace=True)"
   ]
  },
  {
   "cell_type": "code",
   "execution_count": 82,
   "metadata": {},
   "outputs": [
    {
     "data": {
      "image/png": "[encoded data removed]",
      "text/plain": [
       "<Figure size 640x480 with 1 Axes>"
      ]
     },
     "metadata": {},
     "output_type": "display_data"
    }
   ],
   "source": [
    "\n",
    "sns.countplot(data=df, x='Class');\n"
   ]
  },
  {
   "cell_type": "markdown",
   "metadata": {},
   "source": [
    "La taille du jeu de données est grand, nous allons prendre qu'une partie des données."
   ]
  },
  {
   "cell_type": "code",
   "execution_count": 83,
   "metadata": {},
   "outputs": [
    {
     "name": "stdout",
     "output_type": "stream",
     "text": [
      "(20000, 31)\n",
      "(492, 31)\n",
      "(20492, 31)\n"
     ]
    },
    {
     "data": {
      "image/png": "[encoded data removed]",
      "text/plain": [
       "<Figure size 640x480 with 1 Axes>"
      ]
     },
     "metadata": {},
     "output_type": "display_data"
    }
   ],
   "source": [
    "\n",
    "# Sélection données où la classe est égale à 1 (inliers)\n",
    "df_inliers = df[df['Class'] == 1]\n",
    "\n",
    "# premières 20000 lignes\n",
    "df_inliers = df_inliers[:20000]\n",
    "\n",
    "# Sélection données où la classe est égale à -1 (outliers)\n",
    "df_outliers = df[df['Class'] == -1]\n",
    "\n",
    "# Concatenation données sélectionnées\n",
    "df = pd.concat([df_inliers, df_outliers])\n",
    "\n",
    "# Définition de la cible\n",
    "target = df['Class']\n",
    "\n",
    "# Affichage formes des dataframes\n",
    "print(df_inliers.shape)\n",
    "print(df_outliers.shape)\n",
    "print(df.shape)\n",
    "\n",
    "# Affichage countplot de la cible\n",
    "sns.countplot(x='Class', data=df);"
   ]
  },
  {
   "cell_type": "code",
   "execution_count": 84,
   "metadata": {},
   "outputs": [
    {
     "data": {
      "text/plain": [
       "0.024009369510052704"
      ]
     },
     "execution_count": 84,
     "metadata": {},
     "output_type": "execute_result"
    }
   ],
   "source": [
    "# Stockage proportion outliers \n",
    "frac = df[df['Class']==-1]['Class'].count()/df['Class'].count()\n",
    "frac\n"
   ]
  },
  {
   "cell_type": "markdown",
   "metadata": {},
   "source": [
    "Nous constatons un déséquilibre important entre les classes de notre jeu de données. \n",
    "\n",
    "Pour évaluer nos algorithmes, nous allons le diviser en un ensemble de test. \n",
    "\n",
    "La fonction train_test_split sera utilisée pour maintenir la proportion des classes dans les ensembles de données créés."
   ]
  },
  {
   "cell_type": "markdown",
   "metadata": {},
   "source": [
    "Les méthodes que l’on va utiliser sont des méthodes d’apprentissage non-supervisé, les labels de y_train ne seront pas utilisées dans les algorithmes."
   ]
  },
  {
   "cell_type": "code",
   "execution_count": 85,
   "metadata": {},
   "outputs": [],
   "source": [
    "X_train, X_test, y_train, y_test= train_test_split(df, target, test_size=0.2)\n",
    "X_train = X_train.drop('Class', axis = 1)\n",
    "X_test = X_test.drop('Class', axis = 1)"
   ]
  },
  {
   "cell_type": "markdown",
   "metadata": {},
   "source": [
    "La variable time n'est pas pertinente, nous allons l'enlever. "
   ]
  },
  {
   "cell_type": "code",
   "execution_count": 87,
   "metadata": {},
   "outputs": [],
   "source": [
    "X_train_notime = X_train.drop('Time', axis=1)\n",
    "X_test_notime = X_test.drop('Time', axis=1)"
   ]
  },
  {
   "cell_type": "markdown",
   "metadata": {},
   "source": [
    "# Isolation Forest\n",
    "Isolation Forest, basée sur des arbres de décision, identifie les outliers en sélectionnant aléatoirement des variables et en les divisant en sous-ensembles jusqu'à l'isolation des données, répétée de manière récursive."
   ]
  },
  {
   "cell_type": "code",
   "execution_count": 88,
   "metadata": {},
   "outputs": [],
   "source": [
    "# Instanciation d'un obj IsolationForest\n",
    "isof = IsolationForest(contamination=0.03, n_estimators=100, n_jobs=-1)"
   ]
  },
  {
   "cell_type": "code",
   "execution_count": 89,
   "metadata": {},
   "outputs": [
    {
     "data": {
      "text/html": [
       "<div>\n",
       "<style scoped>\n",
       "    .dataframe tbody tr th:only-of-type {\n",
       "        vertical-align: middle;\n",
       "    }\n",
       "\n",
       "    .dataframe tbody tr th {\n",
       "        vertical-align: top;\n",
       "    }\n",
       "\n",
       "    .dataframe thead th {\n",
       "        text-align: right;\n",
       "    }\n",
       "</style>\n",
       "<table border=\"1\" class=\"dataframe\">\n",
       "  <thead>\n",
       "    <tr style=\"text-align: right;\">\n",
       "      <th>Classes prédites</th>\n",
       "      <th>-1</th>\n",
       "      <th>1</th>\n",
       "    </tr>\n",
       "    <tr>\n",
       "      <th>Classes réelles</th>\n",
       "      <th></th>\n",
       "      <th></th>\n",
       "    </tr>\n",
       "  </thead>\n",
       "  <tbody>\n",
       "    <tr>\n",
       "      <th>-1</th>\n",
       "      <td>73</td>\n",
       "      <td>38</td>\n",
       "    </tr>\n",
       "    <tr>\n",
       "      <th>1</th>\n",
       "      <td>64</td>\n",
       "      <td>3924</td>\n",
       "    </tr>\n",
       "  </tbody>\n",
       "</table>\n",
       "</div>"
      ],
      "text/plain": [
       "Classes prédites  -1     1\n",
       "Classes réelles           \n",
       "-1                73    38\n",
       " 1                64  3924"
      ]
     },
     "execution_count": 89,
     "metadata": {},
     "output_type": "execute_result"
    }
   ],
   "source": [
    "# Entrainement du modèle\n",
    "isof.fit(X_train_notime)\n",
    "\n",
    "# Prédiction sur test\n",
    "y_pred = isof.predict(X_test_notime)\n",
    "\n",
    "# Affichage matrice de confusion\n",
    "pd.crosstab(y_test, y_pred, rownames=['Classes réelles'], colnames=['Classes prédites'])"
   ]
  },
  {
   "cell_type": "code",
   "execution_count": 91,
   "metadata": {},
   "outputs": [
    {
     "name": "stdout",
     "output_type": "stream",
     "text": [
      "              precision    recall  f1-score   support\n",
      "\n",
      "          -1       0.53      0.66      0.59       111\n",
      "           1       0.99      0.98      0.99      3988\n",
      "\n",
      "    accuracy                           0.98      4099\n",
      "   macro avg       0.76      0.82      0.79      4099\n",
      "weighted avg       0.98      0.98      0.98      4099\n",
      "\n"
     ]
    }
   ],
   "source": [
    "# Rapport de classification \n",
    "print(classification_report(y_test, y_pred))"
   ]
  },
  {
   "cell_type": "markdown",
   "metadata": {},
   "source": [
    "L'algorithme montre une capacité intrinsèque à obtenir des performances satisfaisantes dans des problématiques complexes de détection de fraude. \n",
    "\n",
    "Bien que le f1-score soit couramment utilisé pour évaluer les modèles en cas de déséquilibre de classe, une attention particulière peut être portée à l'optimisation de métriques spécifiques telles que le rappel. \n",
    "\n",
    "Nous chercherons à améliorer le rappel en ajustant le taux de contamination"
   ]
  },
  {
   "cell_type": "code",
   "execution_count": 92,
   "metadata": {},
   "outputs": [
    {
     "data": {
      "text/html": [
       "<div>\n",
       "<style scoped>\n",
       "    .dataframe tbody tr th:only-of-type {\n",
       "        vertical-align: middle;\n",
       "    }\n",
       "\n",
       "    .dataframe tbody tr th {\n",
       "        vertical-align: top;\n",
       "    }\n",
       "\n",
       "    .dataframe thead th {\n",
       "        text-align: right;\n",
       "    }\n",
       "</style>\n",
       "<table border=\"1\" class=\"dataframe\">\n",
       "  <thead>\n",
       "    <tr style=\"text-align: right;\">\n",
       "      <th>Classes prédites</th>\n",
       "      <th>-1</th>\n",
       "      <th>1</th>\n",
       "    </tr>\n",
       "    <tr>\n",
       "      <th>Classes réelles</th>\n",
       "      <th></th>\n",
       "      <th></th>\n",
       "    </tr>\n",
       "  </thead>\n",
       "  <tbody>\n",
       "    <tr>\n",
       "      <th>-1</th>\n",
       "      <td>87</td>\n",
       "      <td>24</td>\n",
       "    </tr>\n",
       "    <tr>\n",
       "      <th>1</th>\n",
       "      <td>138</td>\n",
       "      <td>3850</td>\n",
       "    </tr>\n",
       "  </tbody>\n",
       "</table>\n",
       "</div>"
      ],
      "text/plain": [
       "Classes prédites   -1     1\n",
       "Classes réelles            \n",
       "-1                 87    24\n",
       " 1                138  3850"
      ]
     },
     "execution_count": 92,
     "metadata": {},
     "output_type": "execute_result"
    }
   ],
   "source": [
    "# découpe manuel jeu de données de validation croisée dans échantillon apprentissage\n",
    "skf = StratifiedKFold(n_splits=3) \n",
    "folds = list(skf.split(X_train_notime, y_train))\n",
    "\n",
    "# Initialisation du modèle Isolation Forest\n",
    "forest = IsolationForest()\n",
    "\n",
    "# Dans la situation où on ne connait pas à priori le paramètre de contamination,\n",
    "# on ajoutera la contamination dans la grille de recherche\n",
    "resc = make_scorer(recall_score, pos_label=-1)\n",
    "\n",
    "# Définition des paramètres pour la grille de recherche\n",
    "params = {'contamination': np.linspace(0.01, 0.05, 10), 'n_estimators': [100, 200, 300]}\n",
    "\n",
    "# Recherche des meilleurs paramètres avec validation croisée\n",
    "search = GridSearchCV(estimator=forest, param_grid=params, scoring=resc, cv=folds, n_jobs=-1)\n",
    "search.fit(X_train_notime, y_train)\n",
    "\n",
    "# Obtention du meilleur modèle\n",
    "optimal_forest = search.best_estimator_\n",
    "\n",
    "# Prédiction sur les données de test\n",
    "y_pred = optimal_forest.predict(X_test_notime)\n",
    "\n",
    "# Affichage de la matrice de confusion\n",
    "pd.crosstab(y_test, y_pred, rownames=['Classes réelles'], colnames=['Classes prédites'])\n",
    "\n"
   ]
  },
  {
   "cell_type": "code",
   "execution_count": 93,
   "metadata": {},
   "outputs": [
    {
     "name": "stdout",
     "output_type": "stream",
     "text": [
      "              precision    recall  f1-score   support\n",
      "\n",
      "          -1       0.39      0.78      0.52       111\n",
      "           1       0.99      0.97      0.98      3988\n",
      "\n",
      "    accuracy                           0.96      4099\n",
      "   macro avg       0.69      0.87      0.75      4099\n",
      "weighted avg       0.98      0.96      0.97      4099\n",
      "\n"
     ]
    }
   ],
   "source": [
    "# Affichage du rapport de classification\n",
    "print(classification_report(y_test, y_pred))"
   ]
  },
  {
   "cell_type": "markdown",
   "metadata": {},
   "source": [
    "Le modèle affiche un meilleur score de rappel, démontrant ainsi une amélioration de sa capacité à détecter les données anormales.\n",
    "\n",
    " En fin de compte, l'algorithme Isolation Forest produit des résultats satisfaisants, même dans des situations de problématique complexe."
   ]
  },
  {
   "cell_type": "markdown",
   "metadata": {},
   "source": [
    "# One class SVM"
   ]
  },
  {
   "cell_type": "markdown",
   "metadata": {},
   "source": [
    "La détection d'outliers en machine learning peut être supervisée, semi-supervisée ou non supervisée. \n",
    "\n",
    "L'One-class SVM est une variante du SVM classique adaptée à la détection de nouveautés.\n",
    "\n",
    "Elle repose sur l'hypothèse que les données d'entraînement sont exemptes d'outliers, et isole ces données par rapport à l'origine à l'aide d'un hyperplan. \n",
    "\n",
    "Cette méthode ne nécessite pas de données étiquetées pour l'entraînement, mais il est essentiel de s'assurer que les données ne sont pas contaminées par des outliers. \n",
    "\n",
    "Ainsi, une étape préliminaire consiste à ne conserver que les données non polluées par des anomalies."
   ]
  },
  {
   "cell_type": "code",
   "execution_count": 94,
   "metadata": {},
   "outputs": [],
   "source": [
    "# Selection uniquement labels = 1\n",
    "y_inliers = y_train[y_train.values==1]\n",
    "\n",
    "# liste d'index pour pouvoir récupérer les variables explicatives de ces index\n",
    "liste = list(y_inliers.index.values)\n",
    "\n",
    "# récupèration variables explicatives dans un nouveau DataFrame\n",
    "X_train_inliers = X_train.loc[liste]\n"
   ]
  },
  {
   "cell_type": "markdown",
   "metadata": {},
   "source": [
    "On cherche à séparer les données du point origine (de coordonnées 0.)"
   ]
  },
  {
   "cell_type": "code",
   "execution_count": 95,
   "metadata": {},
   "outputs": [],
   "source": [
    "# Création objet Scaler\n",
    "scaling = MinMaxScaler(feature_range=(-1, 1)).fit(X_train_inliers)\n",
    "\n",
    "# Entrainement scaler à partir du dataset utilisé dans la phase d'apprentissage\n",
    "X_train_inliers = scaling.transform(X_train_inliers)\n",
    "\n",
    "# transformation X_test avec les informations du DataFrame d'apprentissage\n",
    "X_test = scaling.transform(X_test)"
   ]
  },
  {
   "cell_type": "code",
   "execution_count": 96,
   "metadata": {},
   "outputs": [
    {
     "data": {
      "text/html": [
       "<style>#sk-container-id-1 {color: black;}#sk-container-id-1 pre{padding: 0;}#sk-container-id-1 div.sk-toggleable {background-color: white;}#sk-container-id-1 label.sk-toggleable__label {cursor: pointer;display: block;width: 100%;margin-bottom: 0;padding: 0.3em;box-sizing: border-box;text-align: center;}#sk-container-id-1 label.sk-toggleable__label-arrow:before {content: \"▸\";float: left;margin-right: 0.25em;color: #696969;}#sk-container-id-1 label.sk-toggleable__label-arrow:hover:before {color: black;}#sk-container-id-1 div.sk-estimator:hover label.sk-toggleable__label-arrow:before {color: black;}#sk-container-id-1 div.sk-toggleable__content {max-height: 0;max-width: 0;overflow: hidden;text-align: left;background-color: #f0f8ff;}#sk-container-id-1 div.sk-toggleable__content pre {margin: 0.2em;color: black;border-radius: 0.25em;background-color: #f0f8ff;}#sk-container-id-1 input.sk-toggleable__control:checked~div.sk-toggleable__content {max-height: 200px;max-width: 100%;overflow: auto;}#sk-container-id-1 input.sk-toggleable__control:checked~label.sk-toggleable__label-arrow:before {content: \"▾\";}#sk-container-id-1 div.sk-estimator input.sk-toggleable__control:checked~label.sk-toggleable__label {background-color: #d4ebff;}#sk-container-id-1 div.sk-label input.sk-toggleable__control:checked~label.sk-toggleable__label {background-color: #d4ebff;}#sk-container-id-1 input.sk-hidden--visually {border: 0;clip: rect(1px 1px 1px 1px);clip: rect(1px, 1px, 1px, 1px);height: 1px;margin: -1px;overflow: hidden;padding: 0;position: absolute;width: 1px;}#sk-container-id-1 div.sk-estimator {font-family: monospace;background-color: #f0f8ff;border: 1px dotted black;border-radius: 0.25em;box-sizing: border-box;margin-bottom: 0.5em;}#sk-container-id-1 div.sk-estimator:hover {background-color: #d4ebff;}#sk-container-id-1 div.sk-parallel-item::after {content: \"\";width: 100%;border-bottom: 1px solid gray;flex-grow: 1;}#sk-container-id-1 div.sk-label:hover label.sk-toggleable__label {background-color: #d4ebff;}#sk-container-id-1 div.sk-serial::before {content: \"\";position: absolute;border-left: 1px solid gray;box-sizing: border-box;top: 0;bottom: 0;left: 50%;z-index: 0;}#sk-container-id-1 div.sk-serial {display: flex;flex-direction: column;align-items: center;background-color: white;padding-right: 0.2em;padding-left: 0.2em;position: relative;}#sk-container-id-1 div.sk-item {position: relative;z-index: 1;}#sk-container-id-1 div.sk-parallel {display: flex;align-items: stretch;justify-content: center;background-color: white;position: relative;}#sk-container-id-1 div.sk-item::before, #sk-container-id-1 div.sk-parallel-item::before {content: \"\";position: absolute;border-left: 1px solid gray;box-sizing: border-box;top: 0;bottom: 0;left: 50%;z-index: -1;}#sk-container-id-1 div.sk-parallel-item {display: flex;flex-direction: column;z-index: 1;position: relative;background-color: white;}#sk-container-id-1 div.sk-parallel-item:first-child::after {align-self: flex-end;width: 50%;}#sk-container-id-1 div.sk-parallel-item:last-child::after {align-self: flex-start;width: 50%;}#sk-container-id-1 div.sk-parallel-item:only-child::after {width: 0;}#sk-container-id-1 div.sk-dashed-wrapped {border: 1px dashed gray;margin: 0 0.4em 0.5em 0.4em;box-sizing: border-box;padding-bottom: 0.4em;background-color: white;}#sk-container-id-1 div.sk-label label {font-family: monospace;font-weight: bold;display: inline-block;line-height: 1.2em;}#sk-container-id-1 div.sk-label-container {text-align: center;}#sk-container-id-1 div.sk-container {/* jupyter's `normalize.less` sets `[hidden] { display: none; }` but bootstrap.min.css set `[hidden] { display: none !important; }` so we also need the `!important` here to be able to override the default hidden behavior on the sphinx rendered scikit-learn.org. See: https://github.com/scikit-learn/scikit-learn/issues/21755 */display: inline-block !important;position: relative;}#sk-container-id-1 div.sk-text-repr-fallback {display: none;}</style><div id=\"sk-container-id-1\" class=\"sk-top-container\"><div class=\"sk-text-repr-fallback\"><pre>OneClassSVM(nu=0.005)</pre><b>In a Jupyter environment, please rerun this cell to show the HTML representation or trust the notebook. <br />On GitHub, the HTML representation is unable to render, please try loading this page with nbviewer.org.</b></div><div class=\"sk-container\" hidden><div class=\"sk-item\"><div class=\"sk-estimator sk-toggleable\"><input class=\"sk-toggleable__control sk-hidden--visually\" id=\"sk-estimator-id-1\" type=\"checkbox\" checked><label for=\"sk-estimator-id-1\" class=\"sk-toggleable__label sk-toggleable__label-arrow\">OneClassSVM</label><div class=\"sk-toggleable__content\"><pre>OneClassSVM(nu=0.005)</pre></div></div></div></div></div>"
      ],
      "text/plain": [
       "OneClassSVM(nu=0.005)"
      ]
     },
     "execution_count": 96,
     "metadata": {},
     "output_type": "execute_result"
    }
   ],
   "source": [
    "# Définition objet OneClassSVM\n",
    "clf_osvm = svm.OneClassSVM(kernel='rbf', nu=0.005, gamma='scale')\n",
    "\n",
    "# Entrainement du modèle\n",
    "clf_osvm.fit(X_train_inliers)"
   ]
  },
  {
   "cell_type": "code",
   "execution_count": 97,
   "metadata": {},
   "outputs": [
    {
     "data": {
      "text/html": [
       "<div>\n",
       "<style scoped>\n",
       "    .dataframe tbody tr th:only-of-type {\n",
       "        vertical-align: middle;\n",
       "    }\n",
       "\n",
       "    .dataframe tbody tr th {\n",
       "        vertical-align: top;\n",
       "    }\n",
       "\n",
       "    .dataframe thead th {\n",
       "        text-align: right;\n",
       "    }\n",
       "</style>\n",
       "<table border=\"1\" class=\"dataframe\">\n",
       "  <thead>\n",
       "    <tr style=\"text-align: right;\">\n",
       "      <th>Classes prédites</th>\n",
       "      <th>-1</th>\n",
       "      <th>1</th>\n",
       "    </tr>\n",
       "    <tr>\n",
       "      <th>Classes réelles</th>\n",
       "      <th></th>\n",
       "      <th></th>\n",
       "    </tr>\n",
       "  </thead>\n",
       "  <tbody>\n",
       "    <tr>\n",
       "      <th>-1</th>\n",
       "      <td>102</td>\n",
       "      <td>9</td>\n",
       "    </tr>\n",
       "    <tr>\n",
       "      <th>1</th>\n",
       "      <td>16</td>\n",
       "      <td>3972</td>\n",
       "    </tr>\n",
       "  </tbody>\n",
       "</table>\n",
       "</div>"
      ],
      "text/plain": [
       "Classes prédites   -1     1\n",
       "Classes réelles            \n",
       "-1                102     9\n",
       " 1                 16  3972"
      ]
     },
     "execution_count": 97,
     "metadata": {},
     "output_type": "execute_result"
    }
   ],
   "source": [
    "# Prédiction à partir des variables explicatives de l'échantillon de test\n",
    "y_pred = clf_osvm.predict(X_test)\n",
    "\n",
    "# Affichage des résultats sous la forme d'une matrice de confusion\n",
    "pd.crosstab(y_test, y_pred, rownames=['Classes réelles'], colnames=['Classes prédites'])\n"
   ]
  },
  {
   "cell_type": "code",
   "execution_count": 98,
   "metadata": {},
   "outputs": [
    {
     "name": "stdout",
     "output_type": "stream",
     "text": [
      "              precision    recall  f1-score   support\n",
      "\n",
      "          -1       0.86      0.92      0.89       111\n",
      "           1       1.00      1.00      1.00      3988\n",
      "\n",
      "    accuracy                           0.99      4099\n",
      "   macro avg       0.93      0.96      0.94      4099\n",
      "weighted avg       0.99      0.99      0.99      4099\n",
      "\n"
     ]
    }
   ],
   "source": [
    "# Affichage rapport de prediction\n",
    "print(classification_report(y_test, y_pred))"
   ]
  },
  {
   "cell_type": "markdown",
   "metadata": {},
   "source": [
    "Les resultat sont très satisfaisant, il est possible d'optimiser ce modèle en testant plusieurs hyperparamètre à l'aide d'une grille de recherche."
   ]
  },
  {
   "cell_type": "markdown",
   "metadata": {},
   "source": [
    "# conlusion\n",
    "\n",
    "- La problématique de détection d'anomalie est considérée lorsque le jeu de données contient des labels spécifiques à de très faibles proportions.\n",
    "- Plusieurs algorithmes et techniques permettent d'aborder cette problématique.\n",
    "- Les différents modèles peuvent facilement être implémentés et entraînés à l'aide de scikit-learn.\n",
    "- Avoir à priori des données labélisées permet de valider l'efficacité d'un modèle."
   ]
  }
 ],
 "metadata": {
  "kernelspec": {
   "display_name": "projetct",
   "language": "python",
   "name": "python3"
  },
  "language_info": {
   "codemirror_mode": {
    "name": "ipython",
    "version": 3
   },
   "file_extension": ".py",
   "mimetype": "text/x-python",
   "name": "python",
   "nbconvert_exporter": "python",
   "pygments_lexer": "ipython3",
   "version": "3.11.8"
  }
 },
 "nbformat": 4,
 "nbformat_minor": 2
}
